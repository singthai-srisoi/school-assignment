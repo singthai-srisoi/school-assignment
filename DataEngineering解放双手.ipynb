{
  "cells": [
    {
      "cell_type": "markdown",
      "metadata": {
        "id": "view-in-github",
        "colab_type": "text"
      },
      "source": [
        "<a href=\"https://colab.research.google.com/github/singthai-srisoi/school-assignment/blob/main/DataEngineering%E8%A7%A3%E6%94%BE%E5%8F%8C%E6%89%8B.ipynb\" target=\"_parent\"><img src=\"https://colab.research.google.com/assets/colab-badge.svg\" alt=\"Open In Colab\"/></a>"
      ]
    },
    {
      "cell_type": "code",
      "execution_count": 15,
      "id": "91ea9b82-4bca-4abe-8f9d-28dcdcc590ac",
      "metadata": {
        "colab": {
          "base_uri": "https://localhost:8080/"
        },
        "id": "91ea9b82-4bca-4abe-8f9d-28dcdcc590ac",
        "outputId": "a091aeee-e35c-4af1-c269-78ba52fa1016"
      },
      "outputs": [
        {
          "output_type": "stream",
          "name": "stdout",
          "text": [
            "<title>Introduction to HTML</title>\n"
          ]
        }
      ],
      "source": [
        "from bs4 import BeautifulSoup\n",
        "import requests\n",
        "\n",
        "# 换tutorial的link\n",
        "url = 'https://www.w3schools.com/html/html_intro.asp'\n",
        "# 换folder名称\n",
        "save_folder = 'html'\n",
        "save_dir = f'/content/drive/MyDrive/haza_copy_paste/{save_folder}'\n",
        "\n",
        "# 下面的不要换，应该ok的，哈哈\n",
        "url_head = 'https://www.w3schools.com/html/'\n",
        "res = requests.get(url)\n",
        "soup = BeautifulSoup(res.text, \"html.parser\")\n",
        "print(soup.title)"
      ]
    },
    {
      "cell_type": "code",
      "source": [
        "# connect去google drive，按allow罢了\n",
        "# 记得开一个叫 haza_copy_paste 的 folder，里面再开什么html，php，js那些的folder\n",
        "from google.colab import drive\n",
        "drive.mount('/content/drive/', force_remount=True)\n"
      ],
      "metadata": {
        "colab": {
          "base_uri": "https://localhost:8080/"
        },
        "id": "4LJijePFoxPC",
        "outputId": "e3d2a8ef-683a-4eb6-c95e-727b64525254"
      },
      "id": "4LJijePFoxPC",
      "execution_count": 16,
      "outputs": [
        {
          "output_type": "stream",
          "name": "stdout",
          "text": [
            "Mounted at /content/drive/\n"
          ]
        }
      ]
    },
    {
      "cell_type": "code",
      "execution_count": 17,
      "id": "a315be93-7f5d-4e43-b3bb-1d10360b4352",
      "metadata": {
        "colab": {
          "base_uri": "https://localhost:8080/"
        },
        "id": "a315be93-7f5d-4e43-b3bb-1d10360b4352",
        "outputId": "6cdd53a4-bce7-4919-b6f2-58644dfd6a69"
      },
      "outputs": [
        {
          "output_type": "stream",
          "name": "stdout",
          "text": [
            "Title: Easy Learning with HTML \"Try it Yourself\"\n",
            "Code: \n",
            "<!DOCTYPE html>\n",
            "<html><head><title>Page Title</title>\n",
            "</head><body><h1>This is a Heading</h1><p>This is a paragraph.</p>\n",
            "</body></html>\n",
            "\n",
            "Saved /content/drive/MyDrive/haza_copy_paste/html/Easy Learning with HTML Try it Yourself.html\n",
            "Title: A Simple HTML Document\n",
            "Code: \n",
            " <!DOCTYPE html>\n",
            "<html><head><title>Page Title</title>\n",
            " </head>\n",
            "<body><h1>My First Heading</h1><p>My first paragraph.</p>\n",
            "    </body></html>\n",
            "\n",
            "Saved /content/drive/MyDrive/haza_copy_paste/html/A Simple HTML Document.html\n",
            "Title: Step 2: Write Some HTML\n",
            "Code: \n",
            "<!DOCTYPE html><html><body><h1>My First Heading</h1>\n",
            "<p>My first paragraph.</p></body></html>\n",
            "Saved /content/drive/MyDrive/haza_copy_paste/html/Step 2 Write Some HTML.html\n",
            "Title: W3Schools Online Editor - \"Try it Yourself\"\n",
            "Code: \n",
            "<!DOCTYPE html>\n",
            "<html><head><title>Page Title</title>\n",
            "</head><body><h1>This is a Heading</h1><p>This is a paragraph.</p>\n",
            "</body></html>\n",
            "\n",
            "Saved /content/drive/MyDrive/haza_copy_paste/html/W3Schools Online Editor - Try it Yourself.html\n",
            "Title: HTML Documents\n",
            "Code: \n",
            "<!DOCTYPE html><html><body><h1>My First Heading</h1><p>My first paragraph.</p></body></html>\n",
            "Saved /content/drive/MyDrive/haza_copy_paste/html/HTML Documents.html\n",
            "Title: The <!DOCTYPE> Declaration\n",
            "Code: \n",
            "<!DOCTYPE html>\n",
            "Saved /content/drive/MyDrive/haza_copy_paste/html/The DOCTYPE Declaration.html\n",
            "Title: HTML Headings\n",
            "Code: \n",
            "<h1>This is heading 1</h1>\n",
            "<h2>This is heading 2</h2>\n",
            "<h3>This is heading 3</h3>\n",
            "\n",
            "Saved /content/drive/MyDrive/haza_copy_paste/html/HTML Headings.html\n",
            "Title: HTML Paragraphs\n",
            "Code: \n",
            "<p>This is a paragraph.</p>\n",
            "<p>This is another paragraph.</p>\n",
            "\n",
            "Saved /content/drive/MyDrive/haza_copy_paste/html/HTML Paragraphs.html\n",
            "Title: HTML Links\n",
            "Code: \n",
            "<a href=\"https://www.w3schools.com\">This is a link</a>\n",
            "\n",
            "Saved /content/drive/MyDrive/haza_copy_paste/html/HTML Links.html\n",
            "Title: HTML Images\n",
            "Code: \n",
            "<img src=\"w3schools.jpg\" alt=\"W3Schools.com\" width=\"104\" height=\"142\">\n",
            "\n",
            "Saved /content/drive/MyDrive/haza_copy_paste/html/HTML Images.html\n",
            "Title: Nested HTML Elements\n",
            "Code: \n",
            "<!DOCTYPE html>\n",
            "<html><body>\n",
            " <h1>My First Heading</h1><p>My first paragraph.</p>\n",
            "</body></html>\n",
            "\n",
            "Saved /content/drive/MyDrive/haza_copy_paste/html/Nested HTML Elements.html\n",
            "Title: Nested HTML Elements\n",
            "Code: \n",
            "<body>\n",
            " <h1>My First Heading</h1><p>My first paragraph.</p>\n",
            "</body>\n",
            "\n",
            "Saved /content/drive/MyDrive/haza_copy_paste/html/Nested HTML Elements.html\n",
            "Title: Nested HTML Elements\n",
            "Code: \n",
            " <h1>My First Heading</h1><p>My first paragraph.</p>\n",
            "Saved /content/drive/MyDrive/haza_copy_paste/html/Nested HTML Elements.html\n",
            "Title: Nested HTML Elements\n",
            "Code: \n",
            "<h1>My First Heading</h1>\n",
            "\n",
            "Saved /content/drive/MyDrive/haza_copy_paste/html/Nested HTML Elements.html\n",
            "Title: Nested HTML Elements\n",
            "Code: \n",
            "<p>My first paragraph.</p>\n",
            "\n",
            "Saved /content/drive/MyDrive/haza_copy_paste/html/Nested HTML Elements.html\n",
            "Title: Never Skip the End Tag\n",
            "Code: \n",
            "<html><body>\n",
            " <p>This is a paragraph\n",
            " <p>This is a paragraph\n",
            "</body></html>\n",
            "Saved /content/drive/MyDrive/haza_copy_paste/html/Never Skip the End Tag.html\n",
            "Title: Empty HTML Elements\n",
            "Code: \n",
            "  <p>This is a <br> paragraph with a line break.</p>\n",
            "Saved /content/drive/MyDrive/haza_copy_paste/html/Empty HTML Elements.html\n"
          ]
        }
      ],
      "source": [
        "links = soup.select('#leftmenuinnerinner a')\n",
        "links = [url_head+a['href'] for a in links]\n",
        "i = 0\n",
        "for link in links:\n",
        "    # if i > 10:\n",
        "    #   break\n",
        "    res = requests.get(link)\n",
        "    soup = BeautifulSoup(res.text, \"html.parser\")\n",
        "\n",
        "    code_div = soup.select('.w3-code')\n",
        "\n",
        "    for div in code_div:\n",
        "        title = div.find_previous('h2')\n",
        "\n",
        "        title_text = title.text if title else None\n",
        "        code_text = div.text if div else None\n",
        "\n",
        "        print(\"Title:\", title_text)\n",
        "        print(\"Code:\", code_text)\n",
        "\n",
        "        safe_title = title_text.replace('\"', '').replace('/', '').replace('?', '').replace(':', '').replace('<', '').replace('>', '').replace('!', '')\n",
        "\n",
        "        filename = f\"{save_dir}/{safe_title}.html\"\n",
        "\n",
        "        # Open the file in write mode and write the div content\n",
        "        with open(filename, \"w\", encoding=\"utf-8\") as file:\n",
        "            file.write(f\"<html><head><title>{title_text}</title></head><body>\")\n",
        "            file.write(f\"<h2>{title_text}</h2><code>\")\n",
        "            file.write(code_text)\n",
        "            file.write(\"</code></body></html>\")\n",
        "\n",
        "        print(f\"Saved {filename}\")\n",
        "        # i += 1"
      ]
    },
    {
      "cell_type": "code",
      "execution_count": null,
      "id": "badcd42b-0b64-4450-825b-ebb542df3fbb",
      "metadata": {
        "id": "badcd42b-0b64-4450-825b-ebb542df3fbb"
      },
      "outputs": [],
      "source": []
    }
  ],
  "metadata": {
    "kernelspec": {
      "display_name": "Python 3 (ipykernel)",
      "language": "python",
      "name": "python3"
    },
    "language_info": {
      "codemirror_mode": {
        "name": "ipython",
        "version": 3
      },
      "file_extension": ".py",
      "mimetype": "text/x-python",
      "name": "python",
      "nbconvert_exporter": "python",
      "pygments_lexer": "ipython3",
      "version": "3.11.5"
    },
    "colab": {
      "provenance": [],
      "include_colab_link": true
    }
  },
  "nbformat": 4,
  "nbformat_minor": 5
}